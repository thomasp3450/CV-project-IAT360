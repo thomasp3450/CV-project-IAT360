{
 "cells": [
  {
   "cell_type": "code",
   "execution_count": 1,
   "id": "88f94f57-4aca-4392-b739-32d6e0083aaf",
   "metadata": {},
   "outputs": [
    {
     "name": "stdout",
     "output_type": "stream",
     "text": [
      "Ultralytics 8.3.220  Python-3.13.7 torch-2.9.0+cpu CPU (AMD Ryzen 7 5800X 8-Core Processor)\n",
      "Setup complete  (16 CPUs, 31.9 GB RAM, 864.2/931.4 GB disk)\n"
     ]
    }
   ],
   "source": [
    "import ultralytics\n",
    "ultralytics.checks()"
   ]
  },
  {
   "cell_type": "code",
   "execution_count": null,
   "id": "d6f00954-2076-4e65-a65e-bd5c0a1cfe16",
   "metadata": {},
   "outputs": [],
   "source": []
  }
 ],
 "metadata": {
  "kernelspec": {
   "display_name": "Python 3 (ipykernel)",
   "language": "python",
   "name": "python3"
  },
  "language_info": {
   "codemirror_mode": {
    "name": "ipython",
    "version": 3
   },
   "file_extension": ".py",
   "mimetype": "text/x-python",
   "name": "python",
   "nbconvert_exporter": "python",
   "pygments_lexer": "ipython3",
   "version": "3.13.7"
  }
 },
 "nbformat": 4,
 "nbformat_minor": 5
}
